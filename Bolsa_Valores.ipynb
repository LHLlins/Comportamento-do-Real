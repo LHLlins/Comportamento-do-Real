{
 "cells": [
  {
   "cell_type": "code",
   "execution_count": 47,
   "id": "8de68e07",
   "metadata": {},
   "outputs": [],
   "source": [
    "from keras.models import Sequential\n",
    "from keras.layers import Dense, Dropout, LSTM\n",
    "import numpy as np \n",
    "import pandas as pd\n",
    "from sklearn.preprocessing import MinMaxScaler"
   ]
  },
  {
   "cell_type": "code",
   "execution_count": 48,
   "id": "8b46ed52",
   "metadata": {},
   "outputs": [],
   "source": [
    "base = pd.read_csv('petr4_treinamento.csv')\n"
   ]
  },
  {
   "cell_type": "code",
   "execution_count": 49,
   "id": "6c56d831",
   "metadata": {},
   "outputs": [
    {
     "name": "stdout",
     "output_type": "stream",
     "text": [
      "<class 'pandas.core.frame.DataFrame'>\n",
      "RangeIndex: 1245 entries, 0 to 1244\n",
      "Data columns (total 7 columns):\n",
      " #   Column     Non-Null Count  Dtype  \n",
      "---  ------     --------------  -----  \n",
      " 0   Date       1245 non-null   object \n",
      " 1   Open       1242 non-null   float64\n",
      " 2   High       1242 non-null   float64\n",
      " 3   Low        1242 non-null   float64\n",
      " 4   Close      1242 non-null   float64\n",
      " 5   Adj Close  1242 non-null   float64\n",
      " 6   Volume     1242 non-null   float64\n",
      "dtypes: float64(6), object(1)\n",
      "memory usage: 68.2+ KB\n"
     ]
    }
   ],
   "source": [
    "base.info()"
   ]
  },
  {
   "cell_type": "code",
   "execution_count": 50,
   "id": "51ff74fb",
   "metadata": {
    "scrolled": true
   },
   "outputs": [
    {
     "data": {
      "text/plain": [
       "Date         0\n",
       "Open         3\n",
       "High         3\n",
       "Low          3\n",
       "Close        3\n",
       "Adj Close    3\n",
       "Volume       3\n",
       "dtype: int64"
      ]
     },
     "execution_count": 50,
     "metadata": {},
     "output_type": "execute_result"
    }
   ],
   "source": [
    "base.isnull().sum()"
   ]
  },
  {
   "cell_type": "code",
   "execution_count": 51,
   "id": "2371fe38",
   "metadata": {},
   "outputs": [
    {
     "data": {
      "text/html": [
       "<div>\n",
       "<style scoped>\n",
       "    .dataframe tbody tr th:only-of-type {\n",
       "        vertical-align: middle;\n",
       "    }\n",
       "\n",
       "    .dataframe tbody tr th {\n",
       "        vertical-align: top;\n",
       "    }\n",
       "\n",
       "    .dataframe thead th {\n",
       "        text-align: right;\n",
       "    }\n",
       "</style>\n",
       "<table border=\"1\" class=\"dataframe\">\n",
       "  <thead>\n",
       "    <tr style=\"text-align: right;\">\n",
       "      <th></th>\n",
       "      <th>Date</th>\n",
       "      <th>Open</th>\n",
       "      <th>High</th>\n",
       "      <th>Low</th>\n",
       "      <th>Close</th>\n",
       "      <th>Adj Close</th>\n",
       "      <th>Volume</th>\n",
       "    </tr>\n",
       "  </thead>\n",
       "  <tbody>\n",
       "    <tr>\n",
       "      <th>0</th>\n",
       "      <td>2013-01-02</td>\n",
       "      <td>19.990000</td>\n",
       "      <td>20.209999</td>\n",
       "      <td>19.690001</td>\n",
       "      <td>19.690001</td>\n",
       "      <td>18.086271</td>\n",
       "      <td>30182600.0</td>\n",
       "    </tr>\n",
       "    <tr>\n",
       "      <th>1</th>\n",
       "      <td>2013-01-03</td>\n",
       "      <td>19.809999</td>\n",
       "      <td>20.400000</td>\n",
       "      <td>19.700001</td>\n",
       "      <td>20.400000</td>\n",
       "      <td>18.738441</td>\n",
       "      <td>30552600.0</td>\n",
       "    </tr>\n",
       "    <tr>\n",
       "      <th>2</th>\n",
       "      <td>2013-01-04</td>\n",
       "      <td>20.330000</td>\n",
       "      <td>20.620001</td>\n",
       "      <td>20.170000</td>\n",
       "      <td>20.430000</td>\n",
       "      <td>18.766001</td>\n",
       "      <td>36141000.0</td>\n",
       "    </tr>\n",
       "    <tr>\n",
       "      <th>3</th>\n",
       "      <td>2013-01-07</td>\n",
       "      <td>20.480000</td>\n",
       "      <td>20.670000</td>\n",
       "      <td>19.950001</td>\n",
       "      <td>20.080000</td>\n",
       "      <td>18.444506</td>\n",
       "      <td>28069600.0</td>\n",
       "    </tr>\n",
       "    <tr>\n",
       "      <th>4</th>\n",
       "      <td>2013-01-08</td>\n",
       "      <td>20.110001</td>\n",
       "      <td>20.230000</td>\n",
       "      <td>19.459999</td>\n",
       "      <td>19.500000</td>\n",
       "      <td>17.911745</td>\n",
       "      <td>29091300.0</td>\n",
       "    </tr>\n",
       "    <tr>\n",
       "      <th>...</th>\n",
       "      <td>...</td>\n",
       "      <td>...</td>\n",
       "      <td>...</td>\n",
       "      <td>...</td>\n",
       "      <td>...</td>\n",
       "      <td>...</td>\n",
       "      <td>...</td>\n",
       "    </tr>\n",
       "    <tr>\n",
       "      <th>1240</th>\n",
       "      <td>2017-12-25</td>\n",
       "      <td>15.750000</td>\n",
       "      <td>15.750000</td>\n",
       "      <td>15.750000</td>\n",
       "      <td>15.750000</td>\n",
       "      <td>15.718563</td>\n",
       "      <td>0.0</td>\n",
       "    </tr>\n",
       "    <tr>\n",
       "      <th>1241</th>\n",
       "      <td>2017-12-26</td>\n",
       "      <td>15.750000</td>\n",
       "      <td>15.990000</td>\n",
       "      <td>15.690000</td>\n",
       "      <td>15.970000</td>\n",
       "      <td>15.938125</td>\n",
       "      <td>22173100.0</td>\n",
       "    </tr>\n",
       "    <tr>\n",
       "      <th>1242</th>\n",
       "      <td>2017-12-27</td>\n",
       "      <td>15.990000</td>\n",
       "      <td>16.139999</td>\n",
       "      <td>15.980000</td>\n",
       "      <td>16.049999</td>\n",
       "      <td>16.017963</td>\n",
       "      <td>23552200.0</td>\n",
       "    </tr>\n",
       "    <tr>\n",
       "      <th>1243</th>\n",
       "      <td>2017-12-28</td>\n",
       "      <td>16.100000</td>\n",
       "      <td>16.129999</td>\n",
       "      <td>16.000000</td>\n",
       "      <td>16.100000</td>\n",
       "      <td>16.067865</td>\n",
       "      <td>19011500.0</td>\n",
       "    </tr>\n",
       "    <tr>\n",
       "      <th>1244</th>\n",
       "      <td>2017-12-29</td>\n",
       "      <td>16.100000</td>\n",
       "      <td>16.100000</td>\n",
       "      <td>16.100000</td>\n",
       "      <td>16.100000</td>\n",
       "      <td>16.067865</td>\n",
       "      <td>0.0</td>\n",
       "    </tr>\n",
       "  </tbody>\n",
       "</table>\n",
       "<p>1242 rows × 7 columns</p>\n",
       "</div>"
      ],
      "text/plain": [
       "            Date       Open       High        Low      Close  Adj Close  \\\n",
       "0     2013-01-02  19.990000  20.209999  19.690001  19.690001  18.086271   \n",
       "1     2013-01-03  19.809999  20.400000  19.700001  20.400000  18.738441   \n",
       "2     2013-01-04  20.330000  20.620001  20.170000  20.430000  18.766001   \n",
       "3     2013-01-07  20.480000  20.670000  19.950001  20.080000  18.444506   \n",
       "4     2013-01-08  20.110001  20.230000  19.459999  19.500000  17.911745   \n",
       "...          ...        ...        ...        ...        ...        ...   \n",
       "1240  2017-12-25  15.750000  15.750000  15.750000  15.750000  15.718563   \n",
       "1241  2017-12-26  15.750000  15.990000  15.690000  15.970000  15.938125   \n",
       "1242  2017-12-27  15.990000  16.139999  15.980000  16.049999  16.017963   \n",
       "1243  2017-12-28  16.100000  16.129999  16.000000  16.100000  16.067865   \n",
       "1244  2017-12-29  16.100000  16.100000  16.100000  16.100000  16.067865   \n",
       "\n",
       "          Volume  \n",
       "0     30182600.0  \n",
       "1     30552600.0  \n",
       "2     36141000.0  \n",
       "3     28069600.0  \n",
       "4     29091300.0  \n",
       "...          ...  \n",
       "1240         0.0  \n",
       "1241  22173100.0  \n",
       "1242  23552200.0  \n",
       "1243  19011500.0  \n",
       "1244         0.0  \n",
       "\n",
       "[1242 rows x 7 columns]"
      ]
     },
     "execution_count": 51,
     "metadata": {},
     "output_type": "execute_result"
    }
   ],
   "source": [
    "base.dropna()"
   ]
  },
  {
   "cell_type": "code",
   "execution_count": 80,
   "id": "abb10ae0",
   "metadata": {},
   "outputs": [
    {
     "data": {
      "text/plain": [
       "array(['2013-01-02', 19.99, 20.209999, 19.690001000000002,\n",
       "       19.690001000000002, 18.086271, 30182600.0], dtype=object)"
      ]
     },
     "execution_count": 80,
     "metadata": {},
     "output_type": "execute_result"
    }
   ],
   "source": [
    "base.iloc[0,:].values"
   ]
  },
  {
   "cell_type": "code",
   "execution_count": 52,
   "id": "7b1cddb5",
   "metadata": {},
   "outputs": [
    {
     "data": {
      "text/plain": [
       "array([[19.99    ],\n",
       "       [19.809999],\n",
       "       [20.33    ],\n",
       "       ...,\n",
       "       [15.99    ],\n",
       "       [16.1     ],\n",
       "       [16.1     ]])"
      ]
     },
     "execution_count": 52,
     "metadata": {},
     "output_type": "execute_result"
    }
   ],
   "source": [
    "base_training = base.iloc[:,1:2].values\n",
    "base_training"
   ]
  },
  {
   "cell_type": "code",
   "execution_count": 53,
   "id": "ecae93b9",
   "metadata": {},
   "outputs": [
    {
     "data": {
      "text/plain": [
       "array([[0.76501938],\n",
       "       [0.7562984 ],\n",
       "       [0.78149225],\n",
       "       ...,\n",
       "       [0.57122093],\n",
       "       [0.57655039],\n",
       "       [0.57655039]])"
      ]
     },
     "execution_count": 53,
     "metadata": {},
     "output_type": "execute_result"
    }
   ],
   "source": [
    "normalizador = MinMaxScaler(feature_range=(0,1))\n",
    "base_training_normal=normalizador.fit_transform(base_training)\n",
    "base_training_normal"
   ]
  },
  {
   "cell_type": "code",
   "execution_count": 72,
   "id": "ebcfba33",
   "metadata": {},
   "outputs": [],
   "source": [
    "previsores = []\n",
    "preco_real = []\n",
    "\n",
    "for i in range(90, 1242):\n",
    "    previsores.append(base_training_normal[i-90:i, 0])\n",
    "    preco_real.append(base_training_normal[i, 0])"
   ]
  },
  {
   "cell_type": "code",
   "execution_count": 73,
   "id": "eb400c8c",
   "metadata": {},
   "outputs": [],
   "source": [
    "previsores, preco_real = np.array(previsores), np.array(preco_real)"
   ]
  },
  {
   "cell_type": "code",
   "execution_count": 74,
   "id": "4dcc9668",
   "metadata": {},
   "outputs": [
    {
     "data": {
      "text/plain": [
       "90"
      ]
     },
     "execution_count": 74,
     "metadata": {},
     "output_type": "execute_result"
    }
   ],
   "source": [
    "previsores.shape[1]"
   ]
  },
  {
   "cell_type": "code",
   "execution_count": 75,
   "id": "bf58723c",
   "metadata": {
    "scrolled": false
   },
   "outputs": [],
   "source": [
    "previsores = np.reshape(previsores,(previsores.shape[0], previsores.shape[1], 1))"
   ]
  },
  {
   "cell_type": "code",
   "execution_count": 78,
   "id": "45a7490d",
   "metadata": {},
   "outputs": [
    {
     "name": "stdout",
     "output_type": "stream",
     "text": [
      "Epoch 1/100\n",
      "36/36 [==============================] - 13s 176ms/step - loss: nan - mean_absolute_error: nan\n",
      "Epoch 2/100\n",
      "36/36 [==============================] - 6s 172ms/step - loss: nan - mean_absolute_error: nan\n",
      "Epoch 3/100\n",
      "36/36 [==============================] - 6s 172ms/step - loss: nan - mean_absolute_error: nan\n",
      "Epoch 4/100\n",
      "36/36 [==============================] - 7s 188ms/step - loss: nan - mean_absolute_error: nan\n",
      "Epoch 5/100\n",
      "36/36 [==============================] - 6s 169ms/step - loss: nan - mean_absolute_error: nan\n",
      "Epoch 6/100\n",
      "36/36 [==============================] - 6s 167ms/step - loss: nan - mean_absolute_error: nan\n",
      "Epoch 7/100\n",
      "36/36 [==============================] - 6s 164ms/step - loss: nan - mean_absolute_error: nan\n",
      "Epoch 8/100\n",
      "36/36 [==============================] - 7s 187ms/step - loss: nan - mean_absolute_error: nan\n",
      "Epoch 9/100\n",
      "36/36 [==============================] - 8s 234ms/step - loss: nan - mean_absolute_error: nan\n",
      "Epoch 10/100\n",
      "36/36 [==============================] - 8s 212ms/step - loss: nan - mean_absolute_error: nan\n",
      "Epoch 11/100\n",
      "36/36 [==============================] - 8s 217ms/step - loss: nan - mean_absolute_error: nan\n",
      "Epoch 12/100\n",
      "36/36 [==============================] - 7s 187ms/step - loss: nan - mean_absolute_error: nan\n",
      "Epoch 13/100\n",
      "36/36 [==============================] - 9s 240ms/step - loss: nan - mean_absolute_error: nan\n",
      "Epoch 14/100\n",
      "36/36 [==============================] - 9s 243ms/step - loss: nan - mean_absolute_error: nan\n",
      "Epoch 15/100\n",
      "36/36 [==============================] - 8s 226ms/step - loss: nan - mean_absolute_error: nan\n",
      "Epoch 16/100\n",
      "36/36 [==============================] - 8s 218ms/step - loss: nan - mean_absolute_error: nan\n",
      "Epoch 17/100\n",
      "36/36 [==============================] - 9s 241ms/step - loss: nan - mean_absolute_error: nan\n",
      "Epoch 18/100\n",
      "36/36 [==============================] - 8s 229ms/step - loss: nan - mean_absolute_error: nan\n",
      "Epoch 19/100\n",
      "36/36 [==============================] - 8s 220ms/step - loss: nan - mean_absolute_error: nan\n",
      "Epoch 20/100\n",
      "36/36 [==============================] - 8s 211ms/step - loss: nan - mean_absolute_error: nan\n",
      "Epoch 21/100\n",
      "36/36 [==============================] - 8s 211ms/step - loss: nan - mean_absolute_error: nan\n",
      "Epoch 22/100\n",
      "36/36 [==============================] - 9s 241ms/step - loss: nan - mean_absolute_error: nan\n",
      "Epoch 23/100\n",
      "36/36 [==============================] - 7s 207ms/step - loss: nan - mean_absolute_error: nan\n",
      "Epoch 24/100\n",
      "36/36 [==============================] - 8s 231ms/step - loss: nan - mean_absolute_error: nan\n",
      "Epoch 25/100\n",
      "36/36 [==============================] - 8s 220ms/step - loss: nan - mean_absolute_error: nan\n",
      "Epoch 26/100\n",
      "36/36 [==============================] - 7s 205ms/step - loss: nan - mean_absolute_error: nan\n",
      "Epoch 27/100\n",
      "36/36 [==============================] - 7s 206ms/step - loss: nan - mean_absolute_error: nan\n",
      "Epoch 28/100\n",
      "36/36 [==============================] - 8s 209ms/step - loss: nan - mean_absolute_error: nan\n",
      "Epoch 29/100\n",
      "36/36 [==============================] - 8s 208ms/step - loss: nan - mean_absolute_error: nan\n",
      "Epoch 30/100\n",
      "36/36 [==============================] - 8s 218ms/step - loss: nan - mean_absolute_error: nan\n",
      "Epoch 31/100\n",
      "36/36 [==============================] - 7s 208ms/step - loss: nan - mean_absolute_error: nan\n",
      "Epoch 32/100\n",
      "36/36 [==============================] - 8s 210ms/step - loss: nan - mean_absolute_error: nan\n",
      "Epoch 33/100\n",
      "36/36 [==============================] - 7s 206ms/step - loss: nan - mean_absolute_error: nan\n",
      "Epoch 34/100\n",
      "36/36 [==============================] - 8s 222ms/step - loss: nan - mean_absolute_error: nan\n",
      "Epoch 35/100\n",
      "36/36 [==============================] - 8s 211ms/step - loss: nan - mean_absolute_error: nan\n",
      "Epoch 36/100\n",
      "36/36 [==============================] - 7s 205ms/step - loss: nan - mean_absolute_error: nan\n",
      "Epoch 37/100\n",
      "36/36 [==============================] - 7s 203ms/step - loss: nan - mean_absolute_error: nan\n",
      "Epoch 38/100\n",
      "36/36 [==============================] - 8s 215ms/step - loss: nan - mean_absolute_error: nan\n",
      "Epoch 39/100\n",
      "36/36 [==============================] - 8s 230ms/step - loss: nan - mean_absolute_error: nan\n",
      "Epoch 40/100\n",
      "36/36 [==============================] - 9s 238ms/step - loss: nan - mean_absolute_error: nan\n",
      "Epoch 41/100\n",
      "36/36 [==============================] - 8s 208ms/step - loss: nan - mean_absolute_error: nan\n",
      "Epoch 42/100\n",
      "36/36 [==============================] - 8s 219ms/step - loss: nan - mean_absolute_error: nan\n",
      "Epoch 43/100\n",
      "36/36 [==============================] - 8s 218ms/step - loss: nan - mean_absolute_error: nan\n",
      "Epoch 44/100\n",
      "36/36 [==============================] - 8s 217ms/step - loss: nan - mean_absolute_error: nan\n",
      "Epoch 45/100\n",
      "36/36 [==============================] - 8s 213ms/step - loss: nan - mean_absolute_error: nan\n",
      "Epoch 46/100\n",
      "36/36 [==============================] - 8s 225ms/step - loss: nan - mean_absolute_error: nan\n",
      "Epoch 47/100\n",
      "36/36 [==============================] - 8s 224ms/step - loss: nan - mean_absolute_error: nan\n",
      "Epoch 48/100\n",
      "36/36 [==============================] - 8s 227ms/step - loss: nan - mean_absolute_error: nan\n",
      "Epoch 49/100\n",
      "36/36 [==============================] - 8s 226ms/step - loss: nan - mean_absolute_error: nan\n",
      "Epoch 50/100\n",
      "36/36 [==============================] - 8s 215ms/step - loss: nan - mean_absolute_error: nan\n",
      "Epoch 51/100\n",
      "36/36 [==============================] - 8s 235ms/step - loss: nan - mean_absolute_error: nan\n",
      "Epoch 52/100\n",
      "36/36 [==============================] - 8s 216ms/step - loss: nan - mean_absolute_error: nan\n",
      "Epoch 53/100\n",
      "36/36 [==============================] - 9s 237ms/step - loss: nan - mean_absolute_error: nan\n",
      "Epoch 54/100\n",
      "36/36 [==============================] - 8s 231ms/step - loss: nan - mean_absolute_error: nan\n",
      "Epoch 55/100\n",
      "36/36 [==============================] - 8s 231ms/step - loss: nan - mean_absolute_error: nan\n",
      "Epoch 56/100\n",
      "36/36 [==============================] - 8s 219ms/step - loss: nan - mean_absolute_error: nan\n",
      "Epoch 57/100\n",
      "36/36 [==============================] - 8s 223ms/step - loss: nan - mean_absolute_error: nan\n",
      "Epoch 58/100\n",
      "36/36 [==============================] - 8s 219ms/step - loss: nan - mean_absolute_error: nan\n",
      "Epoch 59/100\n",
      "36/36 [==============================] - 8s 213ms/step - loss: nan - mean_absolute_error: nan\n",
      "Epoch 60/100\n",
      "36/36 [==============================] - 7s 202ms/step - loss: nan - mean_absolute_error: nan\n",
      "Epoch 61/100\n",
      "36/36 [==============================] - 7s 204ms/step - loss: nan - mean_absolute_error: nan\n",
      "Epoch 62/100\n",
      "36/36 [==============================] - 9s 245ms/step - loss: nan - mean_absolute_error: nan\n",
      "Epoch 63/100\n",
      "36/36 [==============================] - 8s 230ms/step - loss: nan - mean_absolute_error: nan\n",
      "Epoch 64/100\n",
      "36/36 [==============================] - 8s 222ms/step - loss: nan - mean_absolute_error: nan\n",
      "Epoch 65/100\n",
      "36/36 [==============================] - 8s 220ms/step - loss: nan - mean_absolute_error: nan\n",
      "Epoch 66/100\n",
      "36/36 [==============================] - 9s 253ms/step - loss: nan - mean_absolute_error: nan\n",
      "Epoch 67/100\n",
      "36/36 [==============================] - 9s 237ms/step - loss: nan - mean_absolute_error: nan\n",
      "Epoch 68/100\n",
      "36/36 [==============================] - 8s 223ms/step - loss: nan - mean_absolute_error: nan\n",
      "Epoch 69/100\n",
      "36/36 [==============================] - 9s 244ms/step - loss: nan - mean_absolute_error: nan\n",
      "Epoch 70/100\n",
      "36/36 [==============================] - 9s 242ms/step - loss: nan - mean_absolute_error: nan\n",
      "Epoch 71/100\n",
      "36/36 [==============================] - 8s 235ms/step - loss: nan - mean_absolute_error: nan\n",
      "Epoch 72/100\n",
      "36/36 [==============================] - 8s 233ms/step - loss: nan - mean_absolute_error: nan\n",
      "Epoch 73/100\n",
      "36/36 [==============================] - 8s 217ms/step - loss: nan - mean_absolute_error: nan\n",
      "Epoch 74/100\n",
      "36/36 [==============================] - 8s 235ms/step - loss: nan - mean_absolute_error: nan\n",
      "Epoch 75/100\n",
      "36/36 [==============================] - 8s 224ms/step - loss: nan - mean_absolute_error: nan\n",
      "Epoch 76/100\n",
      "36/36 [==============================] - 9s 243ms/step - loss: nan - mean_absolute_error: nan\n",
      "Epoch 77/100\n"
     ]
    },
    {
     "name": "stdout",
     "output_type": "stream",
     "text": [
      "36/36 [==============================] - 9s 243ms/step - loss: nan - mean_absolute_error: nan\n",
      "Epoch 78/100\n",
      "36/36 [==============================] - 10s 269ms/step - loss: nan - mean_absolute_error: nan\n",
      "Epoch 79/100\n",
      "36/36 [==============================] - 8s 221ms/step - loss: nan - mean_absolute_error: nan\n",
      "Epoch 80/100\n",
      "36/36 [==============================] - 8s 219ms/step - loss: nan - mean_absolute_error: nan\n",
      "Epoch 81/100\n",
      "36/36 [==============================] - 9s 237ms/step - loss: nan - mean_absolute_error: nan\n",
      "Epoch 82/100\n",
      "36/36 [==============================] - 8s 217ms/step - loss: nan - mean_absolute_error: nan\n",
      "Epoch 83/100\n",
      "36/36 [==============================] - 9s 246ms/step - loss: nan - mean_absolute_error: nan\n",
      "Epoch 84/100\n",
      "36/36 [==============================] - 10s 287ms/step - loss: nan - mean_absolute_error: nan\n",
      "Epoch 85/100\n",
      "36/36 [==============================] - 14s 382ms/step - loss: nan - mean_absolute_error: nan\n",
      "Epoch 86/100\n",
      "36/36 [==============================] - 14s 387ms/step - loss: nan - mean_absolute_error: nan\n",
      "Epoch 87/100\n",
      "36/36 [==============================] - 14s 386ms/step - loss: nan - mean_absolute_error: nan\n",
      "Epoch 88/100\n",
      "36/36 [==============================] - 15s 424ms/step - loss: nan - mean_absolute_error: nan\n",
      "Epoch 89/100\n",
      "36/36 [==============================] - 11s 315ms/step - loss: nan - mean_absolute_error: nan\n",
      "Epoch 90/100\n",
      "36/36 [==============================] - 15s 403ms/step - loss: nan - mean_absolute_error: nan\n",
      "Epoch 91/100\n",
      "36/36 [==============================] - 10s 270ms/step - loss: nan - mean_absolute_error: nan\n",
      "Epoch 92/100\n",
      "36/36 [==============================] - 11s 291ms/step - loss: nan - mean_absolute_error: nan\n",
      "Epoch 93/100\n",
      "36/36 [==============================] - 11s 315ms/step - loss: nan - mean_absolute_error: nan\n",
      "Epoch 94/100\n",
      "36/36 [==============================] - 10s 266ms/step - loss: nan - mean_absolute_error: nan\n",
      "Epoch 95/100\n",
      "36/36 [==============================] - 10s 292ms/step - loss: nan - mean_absolute_error: nan\n",
      "Epoch 96/100\n",
      "36/36 [==============================] - 9s 262ms/step - loss: nan - mean_absolute_error: nan\n",
      "Epoch 97/100\n",
      "36/36 [==============================] - 13s 362ms/step - loss: nan - mean_absolute_error: nan\n",
      "Epoch 98/100\n",
      "36/36 [==============================] - 10s 290ms/step - loss: nan - mean_absolute_error: nan\n",
      "Epoch 99/100\n",
      "36/36 [==============================] - 10s 270ms/step - loss: nan - mean_absolute_error: nan\n",
      "Epoch 100/100\n",
      "36/36 [==============================] - 11s 292ms/step - loss: nan - mean_absolute_error: nan\n"
     ]
    },
    {
     "data": {
      "text/plain": [
       "<keras.callbacks.History at 0x253d041e908>"
      ]
     },
     "execution_count": 78,
     "metadata": {},
     "output_type": "execute_result"
    }
   ],
   "source": [
    "regressor = Sequential()\n",
    "regressor.add(LSTM(units = 100, return_sequences = True, input_shape =(previsores.shape[1],1)))\n",
    "regressor.add(Dropout(0.3))\n",
    "regressor.add(LSTM(units = 50, return_sequences = True))\n",
    "regressor.add(Dropout(0.3))\n",
    "regressor.add(LSTM(units = 50, return_sequences = True))\n",
    "regressor.add(Dropout(0.3))\n",
    "regressor.add(LSTM(units = 50))\n",
    "regressor.add(Dropout(0.3))\n",
    "\n",
    "regressor.add(Dense(units = 1, activation ='linear'))\n",
    "\n",
    "regressor.compile(optimizer='adam', loss ='mean_squared_error', metrics =['mean_absolute_error'])\n",
    "\n",
    "regressor.fit(previsores, preco_real, epochs = 100, batch_size = 32)"
   ]
  }
 ],
 "metadata": {
  "kernelspec": {
   "display_name": "CV_2",
   "language": "python",
   "name": "cv_2"
  },
  "language_info": {
   "codemirror_mode": {
    "name": "ipython",
    "version": 3
   },
   "file_extension": ".py",
   "mimetype": "text/x-python",
   "name": "python",
   "nbconvert_exporter": "python",
   "pygments_lexer": "ipython3",
   "version": "3.7.0"
  }
 },
 "nbformat": 4,
 "nbformat_minor": 5
}
