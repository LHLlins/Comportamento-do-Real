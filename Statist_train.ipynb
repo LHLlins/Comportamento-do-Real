{
 "cells": [
  {
   "cell_type": "code",
   "execution_count": 1,
   "id": "2fd43b67-4786-458a-94d3-7afedc26e5f2",
   "metadata": {},
   "outputs": [],
   "source": [
    "import numpy as np \n",
    "import pandas as pd"
   ]
  },
  {
   "cell_type": "code",
   "execution_count": 27,
   "id": "121b2165-17b5-45ea-bd5c-377a8386a4e6",
   "metadata": {},
   "outputs": [
    {
     "data": {
      "text/plain": [
       "9"
      ]
     },
     "execution_count": 27,
     "metadata": {},
     "output_type": "execute_result"
    }
   ],
   "source": [
    "arr = np.array([[1,2,3]\n",
    "                    ,[4,5,6], \n",
    "                [7,8,9]]\n",
    "                )\n",
    "arr"
   ]
  },
  {
   "cell_type": "code",
   "execution_count": 29,
   "id": "f32d5621-1045-423a-bbc7-a8144d463911",
   "metadata": {},
   "outputs": [
    {
     "data": {
      "text/plain": [
       "array([[[ 0.76902257,  1.24643474],\n",
       "        [ 1.00718936, -1.29622111]],\n",
       "\n",
       "       [[ 0.27499163,  0.22891288],\n",
       "        [ 1.35291684,  0.88642934]],\n",
       "\n",
       "       [[-2.00163731, -0.37184254],\n",
       "        [ 1.66902531, -0.43856974]],\n",
       "\n",
       "       [[-0.53974145,  0.47698501],\n",
       "        [ 3.24894392, -1.02122752]]])"
      ]
     },
     "execution_count": 29,
     "metadata": {},
     "output_type": "execute_result"
    }
   ],
   "source": [
    "np.random.randn(4,2,2)"
   ]
  },
  {
   "cell_type": "code",
   "execution_count": 35,
   "id": "5bc269fc-f176-4f41-bc74-db344f2ebc81",
   "metadata": {},
   "outputs": [
    {
     "data": {
      "text/html": [
       "<div>\n",
       "<style scoped>\n",
       "    .dataframe tbody tr th:only-of-type {\n",
       "        vertical-align: middle;\n",
       "    }\n",
       "\n",
       "    .dataframe tbody tr th {\n",
       "        vertical-align: top;\n",
       "    }\n",
       "\n",
       "    .dataframe thead th {\n",
       "        text-align: right;\n",
       "    }\n",
       "</style>\n",
       "<table border=\"1\" class=\"dataframe\">\n",
       "  <thead>\n",
       "    <tr style=\"text-align: right;\">\n",
       "      <th></th>\n",
       "      <th>name</th>\n",
       "      <th>age</th>\n",
       "      <th>gender</th>\n",
       "    </tr>\n",
       "  </thead>\n",
       "  <tbody>\n",
       "    <tr>\n",
       "      <th>0</th>\n",
       "      <td>Lu</td>\n",
       "      <td>10</td>\n",
       "      <td>F</td>\n",
       "    </tr>\n",
       "    <tr>\n",
       "      <th>1</th>\n",
       "      <td>Luzy</td>\n",
       "      <td>17</td>\n",
       "      <td>M</td>\n",
       "    </tr>\n",
       "  </tbody>\n",
       "</table>\n",
       "</div>"
      ],
      "text/plain": [
       "   name  age gender\n",
       "0    Lu   10      F\n",
       "1  Luzy   17      M"
      ]
     },
     "metadata": {},
     "output_type": "display_data"
    }
   ],
   "source": [
    "columns = ['name','age','gender']\n",
    "\n",
    "df1 = pd.DataFrame([['Lu',10,'F'],\n",
    "                    ['Luzy',17,'M']],\n",
    "                   columns = columns)\n"
   ]
  },
  {
   "cell_type": "code",
   "execution_count": 44,
   "id": "50b9e1a3-bc6c-4da6-a823-45791aa7e70e",
   "metadata": {},
   "outputs": [
    {
     "name": "stdout",
     "output_type": "stream",
     "text": [
      "name        Lu\n",
      "age       1000\n",
      "gender       F\n",
      "Name: 0, dtype: object\n",
      "name      Luzy\n",
      "age       1700\n",
      "gender       M\n",
      "Name: 1, dtype: object\n"
     ]
    }
   ],
   "source": [
    "for i in range(df1.shape[0]):\n",
    "    row = df1.iloc[i]\n",
    "    row.age *= 100 # setting a copy, and not the original frame data.\n",
    "# print(df1) # df is not modified\n",
    "    print(row)\n",
    "\n",
    "# print(row)"
   ]
  },
  {
   "cell_type": "code",
   "execution_count": 52,
   "id": "ce5a2f59-732c-40d9-b80f-bca0679636dc",
   "metadata": {},
   "outputs": [
    {
     "name": "stdout",
     "output_type": "stream",
     "text": [
      "       age                                                    ... gender      \\\n",
      "     count unique top freq  mean std   min   25%   50%   75%  ... unique top   \n",
      "name                                                          ...              \n",
      "Lu     1.0    NaN NaN  NaN  10.0 NaN  10.0  10.0  10.0  10.0  ...      1   F   \n",
      "Luzy   1.0    NaN NaN  NaN  17.0 NaN  17.0  17.0  17.0  17.0  ...      1   M   \n",
      "\n",
      "                                              \n",
      "     freq mean  std  min  25%  50%  75%  max  \n",
      "name                                          \n",
      "Lu      1  NaN  NaN  NaN  NaN  NaN  NaN  NaN  \n",
      "Luzy    1  NaN  NaN  NaN  NaN  NaN  NaN  NaN  \n",
      "\n",
      "[2 rows x 22 columns]\n"
     ]
    }
   ],
   "source": [
    "print(df1.groupby('name').describe(include='all'))"
   ]
  },
  {
   "cell_type": "code",
   "execution_count": null,
   "id": "69d7ffe5-ab9e-4342-a659-9b4f2cb22af3",
   "metadata": {},
   "outputs": [],
   "source": []
  }
 ],
 "metadata": {
  "kernelspec": {
   "display_name": "Python 3 (ipykernel)",
   "language": "python",
   "name": "python3"
  },
  "language_info": {
   "codemirror_mode": {
    "name": "ipython",
    "version": 3
   },
   "file_extension": ".py",
   "mimetype": "text/x-python",
   "name": "python",
   "nbconvert_exporter": "python",
   "pygments_lexer": "ipython3",
   "version": "3.9.7"
  }
 },
 "nbformat": 4,
 "nbformat_minor": 5
}
